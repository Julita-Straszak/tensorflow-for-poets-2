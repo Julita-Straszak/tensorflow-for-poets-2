{
 "cells": [
  {
   "cell_type": "markdown",
   "metadata": {},
   "source": [
    "# Data extraction"
   ]
  },
  {
   "cell_type": "markdown",
   "metadata": {},
   "source": [
    "#### Python Imports "
   ]
  },
  {
   "cell_type": "code",
   "execution_count": 10,
   "metadata": {
    "collapsed": true
   },
   "outputs": [],
   "source": [
    "from PIL import Image as pil_image \n",
    "import pandas as pd\n",
    "import numpy as np\n",
    "import os"
   ]
  },
  {
   "cell_type": "markdown",
   "metadata": {},
   "source": [
    "## Exploring the Datasets"
   ]
  },
  {
   "cell_type": "markdown",
   "metadata": {},
   "source": [
    "#### Clothing Attributes"
   ]
  },
  {
   "cell_type": "markdown",
   "metadata": {},
   "source": [
    "Read in 'list_attr_cloth.txt' as attribute_df. We ignore the first two lines as they contain metadata not required at the moment."
   ]
  },
  {
   "cell_type": "code",
   "execution_count": 11,
   "metadata": {
    "collapsed": true
   },
   "outputs": [],
   "source": [
    "def read_file_deep_fashion(path, ignore_lines = [0,1]):\n",
    "    lines = []\n",
    "    line_count = 0\n",
    "    with open(path) as file:\n",
    "        print('Starting Read...')\n",
    "        for line in file:\n",
    "            if line_count in ignore_lines:\n",
    "                print('Ignoring Line {}'.format(line_count))\n",
    "            else:\n",
    "                lines.append([' '.join(line.split()[0:-1]),line.split()[-1]] )\n",
    "            line_count += 1\n",
    "    print('Read complete')\n",
    "    file.close()\n",
    "    return lines"
   ]
  },
  {
   "cell_type": "code",
   "execution_count": 12,
   "metadata": {
    "collapsed": false
   },
   "outputs": [
    {
     "ename": "FileNotFoundError",
     "evalue": "[Errno 2] No such file or directory: 'list_attr_cloth.txt'",
     "output_type": "error",
     "traceback": [
      "\u001b[0;31m---------------------------------------------------------------------------\u001b[0m",
      "\u001b[0;31mFileNotFoundError\u001b[0m                         Traceback (most recent call last)",
      "\u001b[0;32m<ipython-input-12-6663b9b757c8>\u001b[0m in \u001b[0;36m<module>\u001b[0;34m()\u001b[0m\n\u001b[0;32m----> 1\u001b[0;31m \u001b[0mlines\u001b[0m \u001b[0;34m=\u001b[0m \u001b[0mread_file_deep_fashion\u001b[0m\u001b[0;34m(\u001b[0m\u001b[0;34m'list_attr_cloth.txt'\u001b[0m\u001b[0;34m)\u001b[0m\u001b[0;34m\u001b[0m\u001b[0m\n\u001b[0m\u001b[1;32m      2\u001b[0m \u001b[0mattribute_df\u001b[0m \u001b[0;34m=\u001b[0m \u001b[0mpd\u001b[0m\u001b[0;34m.\u001b[0m\u001b[0mDataFrame\u001b[0m\u001b[0;34m(\u001b[0m\u001b[0mlines\u001b[0m\u001b[0;34m,\u001b[0m \u001b[0mcolumns\u001b[0m \u001b[0;34m=\u001b[0m \u001b[0;34m[\u001b[0m\u001b[0;34m'attribute'\u001b[0m\u001b[0;34m,\u001b[0m\u001b[0;34m'attribute_type'\u001b[0m\u001b[0;34m]\u001b[0m\u001b[0;34m)\u001b[0m\u001b[0;34m\u001b[0m\u001b[0m\n",
      "\u001b[0;32m<ipython-input-11-433c00b6a2db>\u001b[0m in \u001b[0;36mread_file_deep_fashion\u001b[0;34m(path, ignore_lines)\u001b[0m\n\u001b[1;32m      2\u001b[0m     \u001b[0mlines\u001b[0m \u001b[0;34m=\u001b[0m \u001b[0;34m[\u001b[0m\u001b[0;34m]\u001b[0m\u001b[0;34m\u001b[0m\u001b[0m\n\u001b[1;32m      3\u001b[0m     \u001b[0mline_count\u001b[0m \u001b[0;34m=\u001b[0m \u001b[0;36m0\u001b[0m\u001b[0;34m\u001b[0m\u001b[0m\n\u001b[0;32m----> 4\u001b[0;31m     \u001b[0;32mwith\u001b[0m \u001b[0mopen\u001b[0m\u001b[0;34m(\u001b[0m\u001b[0mpath\u001b[0m\u001b[0;34m)\u001b[0m \u001b[0;32mas\u001b[0m \u001b[0mfile\u001b[0m\u001b[0;34m:\u001b[0m\u001b[0;34m\u001b[0m\u001b[0m\n\u001b[0m\u001b[1;32m      5\u001b[0m         \u001b[0mprint\u001b[0m\u001b[0;34m(\u001b[0m\u001b[0;34m'Starting Read...'\u001b[0m\u001b[0;34m)\u001b[0m\u001b[0;34m\u001b[0m\u001b[0m\n\u001b[1;32m      6\u001b[0m         \u001b[0;32mfor\u001b[0m \u001b[0mline\u001b[0m \u001b[0;32min\u001b[0m \u001b[0mfile\u001b[0m\u001b[0;34m:\u001b[0m\u001b[0;34m\u001b[0m\u001b[0m\n",
      "\u001b[0;31mFileNotFoundError\u001b[0m: [Errno 2] No such file or directory: 'list_attr_cloth.txt'"
     ]
    }
   ],
   "source": [
    "lines = read_file_deep_fashion('list_attr_cloth.txt')\n",
    "attribute_df = pd.DataFrame(lines, columns = ['attribute','attribute_type'])"
   ]
  },
  {
   "cell_type": "code",
   "execution_count": 13,
   "metadata": {
    "collapsed": false
   },
   "outputs": [
    {
     "ename": "NameError",
     "evalue": "name 'attribute_df' is not defined",
     "output_type": "error",
     "traceback": [
      "\u001b[0;31m---------------------------------------------------------------------------\u001b[0m",
      "\u001b[0;31mNameError\u001b[0m                                 Traceback (most recent call last)",
      "\u001b[0;32m<ipython-input-13-7eedbc8e93ce>\u001b[0m in \u001b[0;36m<module>\u001b[0;34m()\u001b[0m\n\u001b[0;32m----> 1\u001b[0;31m \u001b[0mattribute_df\u001b[0m\u001b[0;34m[\u001b[0m\u001b[0mattribute_df\u001b[0m\u001b[0;34m[\u001b[0m\u001b[0;34m'attribute_type'\u001b[0m\u001b[0;34m]\u001b[0m \u001b[0;34m==\u001b[0m \u001b[0;34m'1'\u001b[0m\u001b[0;34m]\u001b[0m\u001b[0;34m.\u001b[0m\u001b[0mhead\u001b[0m\u001b[0;34m(\u001b[0m\u001b[0;34m)\u001b[0m\u001b[0;34m\u001b[0m\u001b[0m\n\u001b[0m",
      "\u001b[0;31mNameError\u001b[0m: name 'attribute_df' is not defined"
     ]
    }
   ],
   "source": [
    "attribute_df[attribute_df['attribute_type'] == '1'].head()"
   ]
  },
  {
   "cell_type": "markdown",
   "metadata": {},
   "source": [
    "#### Image names and their labels "
   ]
  },
  {
   "cell_type": "code",
   "execution_count": 14,
   "metadata": {
    "collapsed": false
   },
   "outputs": [
    {
     "ename": "FileNotFoundError",
     "evalue": "[Errno 2] No such file or directory: 'list_category_img.txt'",
     "output_type": "error",
     "traceback": [
      "\u001b[0;31m---------------------------------------------------------------------------\u001b[0m",
      "\u001b[0;31mFileNotFoundError\u001b[0m                         Traceback (most recent call last)",
      "\u001b[0;32m<ipython-input-14-6caed2ec6dcc>\u001b[0m in \u001b[0;36m<module>\u001b[0;34m()\u001b[0m\n\u001b[0;32m----> 1\u001b[0;31m \u001b[0mlines\u001b[0m \u001b[0;34m=\u001b[0m \u001b[0mread_file_deep_fashion\u001b[0m\u001b[0;34m(\u001b[0m\u001b[0;34m'list_category_img.txt'\u001b[0m\u001b[0;34m)\u001b[0m\u001b[0;34m\u001b[0m\u001b[0m\n\u001b[0m\u001b[1;32m      2\u001b[0m \u001b[0mcategory_images\u001b[0m \u001b[0;34m=\u001b[0m \u001b[0mpd\u001b[0m\u001b[0;34m.\u001b[0m\u001b[0mDataFrame\u001b[0m\u001b[0;34m(\u001b[0m\u001b[0mlines\u001b[0m\u001b[0;34m,\u001b[0m \u001b[0mcolumns\u001b[0m \u001b[0;34m=\u001b[0m \u001b[0;34m[\u001b[0m\u001b[0;34m'image_name'\u001b[0m\u001b[0;34m,\u001b[0m\u001b[0;34m'category_label'\u001b[0m\u001b[0;34m]\u001b[0m\u001b[0;34m)\u001b[0m\u001b[0;34m\u001b[0m\u001b[0m\n",
      "\u001b[0;32m<ipython-input-11-433c00b6a2db>\u001b[0m in \u001b[0;36mread_file_deep_fashion\u001b[0;34m(path, ignore_lines)\u001b[0m\n\u001b[1;32m      2\u001b[0m     \u001b[0mlines\u001b[0m \u001b[0;34m=\u001b[0m \u001b[0;34m[\u001b[0m\u001b[0;34m]\u001b[0m\u001b[0;34m\u001b[0m\u001b[0m\n\u001b[1;32m      3\u001b[0m     \u001b[0mline_count\u001b[0m \u001b[0;34m=\u001b[0m \u001b[0;36m0\u001b[0m\u001b[0;34m\u001b[0m\u001b[0m\n\u001b[0;32m----> 4\u001b[0;31m     \u001b[0;32mwith\u001b[0m \u001b[0mopen\u001b[0m\u001b[0;34m(\u001b[0m\u001b[0mpath\u001b[0m\u001b[0;34m)\u001b[0m \u001b[0;32mas\u001b[0m \u001b[0mfile\u001b[0m\u001b[0;34m:\u001b[0m\u001b[0;34m\u001b[0m\u001b[0m\n\u001b[0m\u001b[1;32m      5\u001b[0m         \u001b[0mprint\u001b[0m\u001b[0;34m(\u001b[0m\u001b[0;34m'Starting Read...'\u001b[0m\u001b[0;34m)\u001b[0m\u001b[0;34m\u001b[0m\u001b[0m\n\u001b[1;32m      6\u001b[0m         \u001b[0;32mfor\u001b[0m \u001b[0mline\u001b[0m \u001b[0;32min\u001b[0m \u001b[0mfile\u001b[0m\u001b[0;34m:\u001b[0m\u001b[0;34m\u001b[0m\u001b[0m\n",
      "\u001b[0;31mFileNotFoundError\u001b[0m: [Errno 2] No such file or directory: 'list_category_img.txt'"
     ]
    }
   ],
   "source": [
    "lines = read_file_deep_fashion('list_category_img.txt')\n",
    "category_images = pd.DataFrame(lines, columns = ['image_name','category_label'])"
   ]
  },
  {
   "cell_type": "code",
   "execution_count": 15,
   "metadata": {
    "collapsed": false
   },
   "outputs": [
    {
     "ename": "NameError",
     "evalue": "name 'category_images' is not defined",
     "output_type": "error",
     "traceback": [
      "\u001b[0;31m---------------------------------------------------------------------------\u001b[0m",
      "\u001b[0;31mNameError\u001b[0m                                 Traceback (most recent call last)",
      "\u001b[0;32m<ipython-input-15-de420f6a2649>\u001b[0m in \u001b[0;36m<module>\u001b[0;34m()\u001b[0m\n\u001b[0;32m----> 1\u001b[0;31m \u001b[0mcategory_images\u001b[0m\u001b[0;34m.\u001b[0m\u001b[0mhead\u001b[0m\u001b[0;34m(\u001b[0m\u001b[0;34m)\u001b[0m\u001b[0;34m\u001b[0m\u001b[0m\n\u001b[0m",
      "\u001b[0;31mNameError\u001b[0m: name 'category_images' is not defined"
     ]
    }
   ],
   "source": [
    "category_images.head()"
   ]
  },
  {
   "cell_type": "markdown",
   "metadata": {},
   "source": [
    "#### Category Labels and Types"
   ]
  },
  {
   "cell_type": "code",
   "execution_count": 11,
   "metadata": {
    "collapsed": false
   },
   "outputs": [
    {
     "name": "stdout",
     "output_type": "stream",
     "text": [
      "Starting Read...\n",
      "Ignoring Line 0\n",
      "Ignoring Line 1\n",
      "Read complete\n"
     ]
    }
   ],
   "source": [
    "lines = read_file_deep_fashion('list_category_cloth.txt')\n",
    "category_types = pd.DataFrame(lines, columns = ['category_name','category_type'])\n",
    "category_types['category_label'] = category_types.index+1\n",
    "category_types['category_label'] = category_types['category_label'].astype(str)"
   ]
  },
  {
   "cell_type": "code",
   "execution_count": 12,
   "metadata": {
    "collapsed": false
   },
   "outputs": [
    {
     "data": {
      "text/html": [
       "<div>\n",
       "<style scoped>\n",
       "    .dataframe tbody tr th:only-of-type {\n",
       "        vertical-align: middle;\n",
       "    }\n",
       "\n",
       "    .dataframe tbody tr th {\n",
       "        vertical-align: top;\n",
       "    }\n",
       "\n",
       "    .dataframe thead th {\n",
       "        text-align: right;\n",
       "    }\n",
       "</style>\n",
       "<table border=\"1\" class=\"dataframe\">\n",
       "  <thead>\n",
       "    <tr style=\"text-align: right;\">\n",
       "      <th></th>\n",
       "      <th>category_name</th>\n",
       "      <th>category_type</th>\n",
       "      <th>category_label</th>\n",
       "    </tr>\n",
       "  </thead>\n",
       "  <tbody>\n",
       "    <tr>\n",
       "      <th>0</th>\n",
       "      <td>Anorak</td>\n",
       "      <td>1</td>\n",
       "      <td>1</td>\n",
       "    </tr>\n",
       "    <tr>\n",
       "      <th>1</th>\n",
       "      <td>Blazer</td>\n",
       "      <td>1</td>\n",
       "      <td>2</td>\n",
       "    </tr>\n",
       "    <tr>\n",
       "      <th>2</th>\n",
       "      <td>Blouse</td>\n",
       "      <td>1</td>\n",
       "      <td>3</td>\n",
       "    </tr>\n",
       "    <tr>\n",
       "      <th>3</th>\n",
       "      <td>Bomber</td>\n",
       "      <td>1</td>\n",
       "      <td>4</td>\n",
       "    </tr>\n",
       "    <tr>\n",
       "      <th>4</th>\n",
       "      <td>Button-Down</td>\n",
       "      <td>1</td>\n",
       "      <td>5</td>\n",
       "    </tr>\n",
       "  </tbody>\n",
       "</table>\n",
       "</div>"
      ],
      "text/plain": [
       "  category_name category_type category_label\n",
       "0        Anorak             1              1\n",
       "1        Blazer             1              2\n",
       "2        Blouse             1              3\n",
       "3        Bomber             1              4\n",
       "4   Button-Down             1              5"
      ]
     },
     "execution_count": 12,
     "metadata": {},
     "output_type": "execute_result"
    }
   ],
   "source": [
    "category_types.head()"
   ]
  },
  {
   "cell_type": "markdown",
   "metadata": {},
   "source": [
    "#### Merge 'category_types' and 'category_images' to get every image and its label in English."
   ]
  },
  {
   "cell_type": "code",
   "execution_count": 13,
   "metadata": {
    "collapsed": true
   },
   "outputs": [],
   "source": [
    "category_types = category_types.merge(category_images, on = 'category_label')"
   ]
  },
  {
   "cell_type": "code",
   "execution_count": 14,
   "metadata": {
    "collapsed": false
   },
   "outputs": [
    {
     "data": {
      "text/html": [
       "<div>\n",
       "<style scoped>\n",
       "    .dataframe tbody tr th:only-of-type {\n",
       "        vertical-align: middle;\n",
       "    }\n",
       "\n",
       "    .dataframe tbody tr th {\n",
       "        vertical-align: top;\n",
       "    }\n",
       "\n",
       "    .dataframe thead th {\n",
       "        text-align: right;\n",
       "    }\n",
       "</style>\n",
       "<table border=\"1\" class=\"dataframe\">\n",
       "  <thead>\n",
       "    <tr style=\"text-align: right;\">\n",
       "      <th></th>\n",
       "      <th>category_name</th>\n",
       "      <th>category_type</th>\n",
       "      <th>category_label</th>\n",
       "      <th>image_name</th>\n",
       "    </tr>\n",
       "  </thead>\n",
       "  <tbody>\n",
       "    <tr>\n",
       "      <th>0</th>\n",
       "      <td>Anorak</td>\n",
       "      <td>1</td>\n",
       "      <td>1</td>\n",
       "      <td>img/Hooded_Cotton_Canvas_Anorak/img_00000001.jpg</td>\n",
       "    </tr>\n",
       "    <tr>\n",
       "      <th>1</th>\n",
       "      <td>Anorak</td>\n",
       "      <td>1</td>\n",
       "      <td>1</td>\n",
       "      <td>img/Hooded_Cotton_Canvas_Anorak/img_00000002.jpg</td>\n",
       "    </tr>\n",
       "    <tr>\n",
       "      <th>2</th>\n",
       "      <td>Anorak</td>\n",
       "      <td>1</td>\n",
       "      <td>1</td>\n",
       "      <td>img/Hooded_Cotton_Canvas_Anorak/img_00000003.jpg</td>\n",
       "    </tr>\n",
       "    <tr>\n",
       "      <th>3</th>\n",
       "      <td>Anorak</td>\n",
       "      <td>1</td>\n",
       "      <td>1</td>\n",
       "      <td>img/Hooded_Cotton_Canvas_Anorak/img_00000004.jpg</td>\n",
       "    </tr>\n",
       "    <tr>\n",
       "      <th>4</th>\n",
       "      <td>Anorak</td>\n",
       "      <td>1</td>\n",
       "      <td>1</td>\n",
       "      <td>img/Hooded_Cotton_Canvas_Anorak/img_00000005.jpg</td>\n",
       "    </tr>\n",
       "  </tbody>\n",
       "</table>\n",
       "</div>"
      ],
      "text/plain": [
       "  category_name category_type category_label  \\\n",
       "0        Anorak             1              1   \n",
       "1        Anorak             1              1   \n",
       "2        Anorak             1              1   \n",
       "3        Anorak             1              1   \n",
       "4        Anorak             1              1   \n",
       "\n",
       "                                         image_name  \n",
       "0  img/Hooded_Cotton_Canvas_Anorak/img_00000001.jpg  \n",
       "1  img/Hooded_Cotton_Canvas_Anorak/img_00000002.jpg  \n",
       "2  img/Hooded_Cotton_Canvas_Anorak/img_00000003.jpg  \n",
       "3  img/Hooded_Cotton_Canvas_Anorak/img_00000004.jpg  \n",
       "4  img/Hooded_Cotton_Canvas_Anorak/img_00000005.jpg  "
      ]
     },
     "execution_count": 14,
     "metadata": {},
     "output_type": "execute_result"
    }
   ],
   "source": [
    "category_types.head()"
   ]
  },
  {
   "cell_type": "markdown",
   "metadata": {},
   "source": [
    "### Get all the available categories"
   ]
  },
  {
   "cell_type": "code",
   "execution_count": 40,
   "metadata": {
    "collapsed": false
   },
   "outputs": [
    {
     "data": {
      "text/plain": [
       "array(['Anorak', 'Blazer', 'Blouse', 'Bomber', 'Button-Down', 'Cardigan',\n",
       "       'Flannel', 'Halter', 'Henley', 'Hoodie', 'Jacket', 'Jersey',\n",
       "       'Parka', 'Peacoat', 'Poncho', 'Sweater', 'Tank', 'Tee', 'Top',\n",
       "       'Turtleneck', 'Capris', 'Chinos', 'Culottes', 'Cutoffs', 'Gauchos',\n",
       "       'Jeans', 'Jeggings', 'Jodhpurs', 'Joggers', 'Leggings', 'Sarong',\n",
       "       'Shorts', 'Skirt', 'Sweatpants', 'Sweatshorts', 'Trunks', 'Caftan',\n",
       "       'Coat', 'Coverup', 'Dress', 'Jumpsuit', 'Kaftan', 'Kimono',\n",
       "       'Onesie', 'Robe', 'Romper'], dtype=object)"
      ]
     },
     "execution_count": 40,
     "metadata": {},
     "output_type": "execute_result"
    }
   ],
   "source": [
    "category_types.category_name.unique()"
   ]
  },
  {
   "cell_type": "markdown",
   "metadata": {},
   "source": [
    "Choosing 5 categories:\n",
    "    Tee, Dress, Blouse, Cardigan and Jacket"
   ]
  },
  {
   "cell_type": "markdown",
   "metadata": {},
   "source": [
    "Create folders of the above names:"
   ]
  },
  {
   "cell_type": "code",
   "execution_count": 9,
   "metadata": {
    "collapsed": false
   },
   "outputs": [
    {
     "name": "stdout",
     "output_type": "stream",
     "text": [
      "/Users/julitastraszak/Documents/GitHub/tensorflow-for-poets-2/tf_files/apparel_photos/Tee\n",
      "/Users/julitastraszak/Documents/GitHub/tensorflow-for-poets-2/tf_files/apparel_photos/Dress\n",
      "/Users/julitastraszak/Documents/GitHub/tensorflow-for-poets-2/tf_files/apparel_photos/Blouse\n",
      "/Users/julitastraszak/Documents/GitHub/tensorflow-for-poets-2/tf_files/apparel_photos/Cardigan\n",
      "/Users/julitastraszak/Documents/GitHub/tensorflow-for-poets-2/tf_files/apparel_photos/Jacket\n"
     ]
    }
   ],
   "source": [
    "categories_list = ['Tee', 'Dress', 'Blouse', 'Cardigan', 'Jacket']\n",
    "my_path = '/Users/julitastraszak/Documents/GitHub/tensorflow-for-poets-2/tf_files/apparel_photos'\n",
    "for i in range (len(categories_list)):\n",
    "    category = categories_list[i]\n",
    "    my_path_complete = ''.join((my_path , '/', category))\n",
    "    print (my_path_complete)\n",
    "    os.makedirs(my_path_complete)"
   ]
  },
  {
   "cell_type": "markdown",
   "metadata": {},
   "source": [
    "### Get another column using information from an existing one "
   ]
  },
  {
   "cell_type": "code",
   "execution_count": 15,
   "metadata": {
    "collapsed": false
   },
   "outputs": [
    {
     "data": {
      "text/plain": [
       "'img/Hooded_Cotton_Canvas_Anorak/img_00000001.jpg'"
      ]
     },
     "execution_count": 15,
     "metadata": {},
     "output_type": "execute_result"
    }
   ],
   "source": [
    "category_types.at[0,'image_name']"
   ]
  },
  {
   "cell_type": "code",
   "execution_count": 16,
   "metadata": {
    "collapsed": false
   },
   "outputs": [
    {
     "name": "stdout",
     "output_type": "stream",
     "text": [
      "Adding a new column using the existing columns in DataFrame:\n"
     ]
    }
   ],
   "source": [
    "print (\"Adding a new column using the existing columns in DataFrame:\")\n",
    "saving_names = []\n",
    "categories = []\n",
    "for row_index, row in category_types.iterrows():\n",
    "    image_name = category_types.at[row_index, 'image_name']\n",
    "    splited = image_name.split(\"/\")\n",
    "    middle = splited [1]\n",
    "    image_name_for_saving = splited [2]\n",
    "    saving = ''.join((middle,image_name_for_saving))\n",
    "    saving_names.append(saving)\n",
    "\n",
    "category_types['image_name_for_saving'] = saving_names "
   ]
  },
  {
   "cell_type": "code",
   "execution_count": 41,
   "metadata": {
    "collapsed": false
   },
   "outputs": [
    {
     "data": {
      "text/html": [
       "<div>\n",
       "<style scoped>\n",
       "    .dataframe tbody tr th:only-of-type {\n",
       "        vertical-align: middle;\n",
       "    }\n",
       "\n",
       "    .dataframe tbody tr th {\n",
       "        vertical-align: top;\n",
       "    }\n",
       "\n",
       "    .dataframe thead th {\n",
       "        text-align: right;\n",
       "    }\n",
       "</style>\n",
       "<table border=\"1\" class=\"dataframe\">\n",
       "  <thead>\n",
       "    <tr style=\"text-align: right;\">\n",
       "      <th></th>\n",
       "      <th>category_name</th>\n",
       "      <th>category_type</th>\n",
       "      <th>category_label</th>\n",
       "      <th>image_name</th>\n",
       "      <th>image_name_for_saving</th>\n",
       "    </tr>\n",
       "  </thead>\n",
       "  <tbody>\n",
       "    <tr>\n",
       "      <th>0</th>\n",
       "      <td>Anorak</td>\n",
       "      <td>1</td>\n",
       "      <td>1</td>\n",
       "      <td>img/Hooded_Cotton_Canvas_Anorak/img_00000001.jpg</td>\n",
       "      <td>Hooded_Cotton_Canvas_Anorakimg_00000001.jpg</td>\n",
       "    </tr>\n",
       "    <tr>\n",
       "      <th>1</th>\n",
       "      <td>Anorak</td>\n",
       "      <td>1</td>\n",
       "      <td>1</td>\n",
       "      <td>img/Hooded_Cotton_Canvas_Anorak/img_00000002.jpg</td>\n",
       "      <td>Hooded_Cotton_Canvas_Anorakimg_00000002.jpg</td>\n",
       "    </tr>\n",
       "    <tr>\n",
       "      <th>2</th>\n",
       "      <td>Anorak</td>\n",
       "      <td>1</td>\n",
       "      <td>1</td>\n",
       "      <td>img/Hooded_Cotton_Canvas_Anorak/img_00000003.jpg</td>\n",
       "      <td>Hooded_Cotton_Canvas_Anorakimg_00000003.jpg</td>\n",
       "    </tr>\n",
       "    <tr>\n",
       "      <th>3</th>\n",
       "      <td>Anorak</td>\n",
       "      <td>1</td>\n",
       "      <td>1</td>\n",
       "      <td>img/Hooded_Cotton_Canvas_Anorak/img_00000004.jpg</td>\n",
       "      <td>Hooded_Cotton_Canvas_Anorakimg_00000004.jpg</td>\n",
       "    </tr>\n",
       "    <tr>\n",
       "      <th>4</th>\n",
       "      <td>Anorak</td>\n",
       "      <td>1</td>\n",
       "      <td>1</td>\n",
       "      <td>img/Hooded_Cotton_Canvas_Anorak/img_00000005.jpg</td>\n",
       "      <td>Hooded_Cotton_Canvas_Anorakimg_00000005.jpg</td>\n",
       "    </tr>\n",
       "  </tbody>\n",
       "</table>\n",
       "</div>"
      ],
      "text/plain": [
       "  category_name category_type category_label  \\\n",
       "0        Anorak             1              1   \n",
       "1        Anorak             1              1   \n",
       "2        Anorak             1              1   \n",
       "3        Anorak             1              1   \n",
       "4        Anorak             1              1   \n",
       "\n",
       "                                         image_name  \\\n",
       "0  img/Hooded_Cotton_Canvas_Anorak/img_00000001.jpg   \n",
       "1  img/Hooded_Cotton_Canvas_Anorak/img_00000002.jpg   \n",
       "2  img/Hooded_Cotton_Canvas_Anorak/img_00000003.jpg   \n",
       "3  img/Hooded_Cotton_Canvas_Anorak/img_00000004.jpg   \n",
       "4  img/Hooded_Cotton_Canvas_Anorak/img_00000005.jpg   \n",
       "\n",
       "                         image_name_for_saving  \n",
       "0  Hooded_Cotton_Canvas_Anorakimg_00000001.jpg  \n",
       "1  Hooded_Cotton_Canvas_Anorakimg_00000002.jpg  \n",
       "2  Hooded_Cotton_Canvas_Anorakimg_00000003.jpg  \n",
       "3  Hooded_Cotton_Canvas_Anorakimg_00000004.jpg  \n",
       "4  Hooded_Cotton_Canvas_Anorakimg_00000005.jpg  "
      ]
     },
     "execution_count": 41,
     "metadata": {},
     "output_type": "execute_result"
    }
   ],
   "source": [
    "category_types.head()"
   ]
  },
  {
   "cell_type": "code",
   "execution_count": 43,
   "metadata": {
    "collapsed": false
   },
   "outputs": [
    {
     "data": {
      "text/plain": [
       "289222"
      ]
     },
     "execution_count": 43,
     "metadata": {},
     "output_type": "execute_result"
    }
   ],
   "source": [
    "len (category_types)"
   ]
  },
  {
   "cell_type": "code",
   "execution_count": 37,
   "metadata": {
    "collapsed": false
   },
   "outputs": [],
   "source": [
    "path_to_folder = '/Users/julitastraszak/Documents/GitHub/tensorflow-for-poets-2/tf_files/apparel_photos'\n",
    "all_paths = []\n",
    "def save_images_per_category( data , category_name , path_to_folder):\n",
    "    for row_index, row in category_types.iterrows():\n",
    "        img_cat = data.at[row_index, 'category_name']\n",
    "        if category_name == img_cat:\n",
    "            image_name = category_types.at[row_index, 'image_name_for_saving']\n",
    "            saving_path = os.path.join(path_to_folder, category_name, image_name)\n",
    "            image = pil_image.open(data.at[row_index, 'image_name'])\n",
    "            image.save(saving_path, 'JPEG')"
   ]
  },
  {
   "cell_type": "code",
   "execution_count": 38,
   "metadata": {
    "collapsed": false,
    "scrolled": true
   },
   "outputs": [],
   "source": [
    "Anorak = 'Anorak'\n",
    "save_images_per_category( category_types, Anorak , path_to_folder)"
   ]
  },
  {
   "cell_type": "markdown",
   "metadata": {
    "collapsed": true
   },
   "source": [
    "Save all the images of classes indicated "
   ]
  },
  {
   "cell_type": "code",
   "execution_count": null,
   "metadata": {
    "collapsed": true
   },
   "outputs": [],
   "source": [
    "for i in range (len(categories_list)):\n",
    "    category = categories_list[i]\n",
    "    save_images_per_category (category_types, category, path_to_folder)"
   ]
  },
  {
   "cell_type": "markdown",
   "metadata": {},
   "source": [
    "## Example Image"
   ]
  },
  {
   "cell_type": "markdown",
   "metadata": {},
   "source": [
    "Below we show an example image and what it looks like in the data."
   ]
  },
  {
   "cell_type": "code",
   "execution_count": 444,
   "metadata": {
    "collapsed": true
   },
   "outputs": [],
   "source": [
    "image = pil_image.open('img/Sheer_Pleated-Front_Blouse/img_00000001.jpg')"
   ]
  },
  {
   "cell_type": "code",
   "execution_count": 445,
   "metadata": {
    "collapsed": false
   },
   "outputs": [
    {
     "data": {
      "image/png": "[encoded data removed]",
      "text/plain": [
       "<PIL.JpegImagePlugin.JpegImageFile image mode=RGB size=300x300 at 0x189DB4BE0>"
      ]
     },
     "execution_count": 445,
     "metadata": {},
     "output_type": "execute_result"
    }
   ],
   "source": [
    "image"
   ]
  },
  {
   "cell_type": "code",
   "execution_count": 446,
   "metadata": {
    "collapsed": false
   },
   "outputs": [
    {
     "data": {
      "text/plain": [
       "(300, 300, 3)"
      ]
     },
     "execution_count": 446,
     "metadata": {},
     "output_type": "execute_result"
    }
   ],
   "source": [
    "np.array(image).shape"
   ]
  },
  {
   "cell_type": "code",
   "execution_count": 448,
   "metadata": {
    "collapsed": false
   },
   "outputs": [
    {
     "data": {
      "text/html": [
       "<div>\n",
       "<style scoped>\n",
       "    .dataframe tbody tr th:only-of-type {\n",
       "        vertical-align: middle;\n",
       "    }\n",
       "\n",
       "    .dataframe tbody tr th {\n",
       "        vertical-align: top;\n",
       "    }\n",
       "\n",
       "    .dataframe thead th {\n",
       "        text-align: right;\n",
       "    }\n",
       "</style>\n",
       "<table border=\"1\" class=\"dataframe\">\n",
       "  <thead>\n",
       "    <tr style=\"text-align: right;\">\n",
       "      <th></th>\n",
       "      <th>category_name</th>\n",
       "      <th>category_type</th>\n",
       "      <th>category_label</th>\n",
       "      <th>image_name</th>\n",
       "    </tr>\n",
       "  </thead>\n",
       "  <tbody>\n",
       "    <tr>\n",
       "      <th>7655</th>\n",
       "      <td>Blouse</td>\n",
       "      <td>1</td>\n",
       "      <td>3</td>\n",
       "      <td>img/Sheer_Pleated-Front_Blouse/img_00000001.jpg</td>\n",
       "    </tr>\n",
       "  </tbody>\n",
       "</table>\n",
       "</div>"
      ],
      "text/plain": [
       "     category_name category_type category_label  \\\n",
       "7655        Blouse             1              3   \n",
       "\n",
       "                                           image_name  \n",
       "7655  img/Sheer_Pleated-Front_Blouse/img_00000001.jpg  "
      ]
     },
     "execution_count": 448,
     "metadata": {},
     "output_type": "execute_result"
    }
   ],
   "source": [
    "category_types[category_types['image_name'] == 'img/Sheer_Pleated-Front_Blouse/img_00000001.jpg']"
   ]
  },
  {
   "cell_type": "code",
   "execution_count": 210,
   "metadata": {
    "collapsed": false
   },
   "outputs": [
    {
     "data": {
      "text/html": [
       "<div>\n",
       "<style scoped>\n",
       "    .dataframe tbody tr th:only-of-type {\n",
       "        vertical-align: middle;\n",
       "    }\n",
       "\n",
       "    .dataframe tbody tr th {\n",
       "        vertical-align: top;\n",
       "    }\n",
       "\n",
       "    .dataframe thead th {\n",
       "        text-align: right;\n",
       "    }\n",
       "</style>\n",
       "<table border=\"1\" class=\"dataframe\">\n",
       "  <thead>\n",
       "    <tr style=\"text-align: right;\">\n",
       "      <th></th>\n",
       "      <th>image_name</th>\n",
       "      <th>x_1</th>\n",
       "      <th>y_1</th>\n",
       "      <th>x_2</th>\n",
       "      <th>y_2</th>\n",
       "    </tr>\n",
       "  </thead>\n",
       "  <tbody>\n",
       "    <tr>\n",
       "      <th>0</th>\n",
       "      <td>img/Sheer_Pleated-Front_Blouse/img_00000001.jpg</td>\n",
       "      <td>072</td>\n",
       "      <td>079</td>\n",
       "      <td>232</td>\n",
       "      <td>273</td>\n",
       "    </tr>\n",
       "  </tbody>\n",
       "</table>\n",
       "</div>"
      ],
      "text/plain": [
       "                                        image_name  x_1  y_1  x_2  y_2\n",
       "0  img/Sheer_Pleated-Front_Blouse/img_00000001.jpg  072  079  232  273"
      ]
     },
     "execution_count": 210,
     "metadata": {},
     "output_type": "execute_result"
    }
   ],
   "source": [
    "image_bounding_box[image_bounding_box['image_name'] == 'img/Sheer_Pleated-Front_Blouse/img_00000001.jpg']"
   ]
  },
  {
   "cell_type": "code",
   "execution_count": 429,
   "metadata": {
    "collapsed": false
   },
   "outputs": [
    {
     "data": {
      "image/png": "[encoded data removed]",
      "text/plain": [
       "<PIL.Image.Image image mode=RGB size=160x194 at 0x17EF532B0>"
      ]
     },
     "execution_count": 429,
     "metadata": {},
     "output_type": "execute_result"
    }
   ],
   "source": [
    "image.crop([72, 79, 232, 273])"
   ]
  },
  {
   "cell_type": "markdown",
   "metadata": {},
   "source": [
    "### Creating the Data Pipeline "
   ]
  },
  {
   "cell_type": "markdown",
   "metadata": {},
   "source": [
    "We look to create a Data Pipeline which only retrieves images which fit the criteria:\n",
    "    - Front facing images\n",
    "    - Are in a category which has at least 1000 images.\n",
    "    - Once cropped are at least 60x60 pixels.\n",
    "    \n",
    "Once we have the set of images we will use, we read each image in, crop so that it contains only the item of clothing, and write out again to a new directory."
   ]
  },
  {
   "cell_type": "markdown",
   "metadata": {},
   "source": [
    "The original dataframe contains this many rows."
   ]
  },
  {
   "cell_type": "code",
   "execution_count": null,
   "metadata": {
    "collapsed": true
   },
   "outputs": [],
   "source": []
  }
 ],
 "metadata": {
  "anaconda-cloud": {},
  "kernelspec": {
   "display_name": "Python [default]",
   "language": "python",
   "name": "python3"
  },
  "language_info": {
   "codemirror_mode": {
    "name": "ipython",
    "version": 3
   },
   "file_extension": ".py",
   "mimetype": "text/x-python",
   "name": "python",
   "nbconvert_exporter": "python",
   "pygments_lexer": "ipython3",
   "version": "3.5.2"
  }
 },
 "nbformat": 4,
 "nbformat_minor": 2
}
